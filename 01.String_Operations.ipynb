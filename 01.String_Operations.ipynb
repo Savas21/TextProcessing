{
 "cells": [
  {
   "cell_type": "markdown",
   "metadata": {},
   "source": [
    "### String Operations"
   ]
  },
  {
   "cell_type": "code",
   "execution_count": 1,
   "metadata": {},
   "outputs": [
    {
     "data": {
      "text/plain": [
       "'Do not let your difficulties fill you with anxiety, after all it is only in the darkest nights that stars shine more brightly.'"
      ]
     },
     "execution_count": 1,
     "metadata": {},
     "output_type": "execute_result"
    }
   ],
   "source": [
    "namelist = [\"Ali\",\"Joseph\",\"Osman\",\"Jonah\"]\n",
    "sentence =\"Do not let your difficulties fill you with anxiety, after all it is only in the darkest nights that stars shine more brightly.\"\n",
    "sentence"
   ]
  },
  {
   "cell_type": "markdown",
   "metadata": {},
   "source": [
    "##### Join and Split funtionalities"
   ]
  },
  {
   "cell_type": "code",
   "execution_count": 2,
   "metadata": {},
   "outputs": [
    {
     "name": "stdout",
     "output_type": "stream",
     "text": [
      "<class 'str'> : Ali Joseph Osman Jonah\n"
     ]
    }
   ],
   "source": [
    "names = \" \".join(namelist)\n",
    "print(type(names),\":\",names)"
   ]
  },
  {
   "cell_type": "code",
   "execution_count": 3,
   "metadata": {},
   "outputs": [
    {
     "name": "stdout",
     "output_type": "stream",
     "text": [
      "<class 'list'> : ['Do', 'not', 'let', 'your', 'difficulties', 'fill', 'you', 'with', 'anxiety,', 'after', 'all', 'it', 'is', 'only', 'in', 'the', 'darkest', 'nights', 'that', 'stars', 'shine', 'more', 'brightly.']\n"
     ]
    }
   ],
   "source": [
    "wordlist =sentence.split(\" \")\n",
    "print(type(wordlist),\":\",wordlist)"
   ]
  },
  {
   "cell_type": "code",
   "execution_count": 4,
   "metadata": {},
   "outputs": [
    {
     "name": "stdout",
     "output_type": "stream",
     "text": [
      "Text Additions:  The best deed of a great man is to forgive and forget.\n",
      "Text Multiplication:  To be or not to be.To be or not to be.\n"
     ]
    }
   ],
   "source": [
    "# Additional example \n",
    "# concatination and multiplication does not add any extra character\n",
    "additionsample = \"The best deed of a great man is \"+\"to forgive and forget.\"\n",
    "multiplication = \"To be or not to be.\"*2\n",
    "print(\"Text Additions: \",additionsample)\n",
    "print(\"Text Multiplication: \",multiplication)\n",
    "\n",
    "\n"
   ]
  },
  {
   "cell_type": "code",
   "execution_count": 5,
   "metadata": {},
   "outputs": [
    {
     "name": "stdout",
     "output_type": "stream",
     "text": [
      "s\n",
      "k\n"
     ]
    }
   ],
   "source": [
    "str = \"Istanbul Turkey\"\n",
    "print(str[1])\n",
    "print(str[-3])"
   ]
  },
  {
   "cell_type": "markdown",
   "metadata": {},
   "source": [
    "### Gettting deeper with string operations"
   ]
  },
  {
   "cell_type": "markdown",
   "metadata": {},
   "source": [
    "#### Substring"
   ]
  },
  {
   "cell_type": "code",
   "execution_count": 6,
   "metadata": {},
   "outputs": [],
   "source": [
    "str = \"NLTK Dolly Python\""
   ]
  },
  {
   "cell_type": "code",
   "execution_count": 7,
   "metadata": {},
   "outputs": [
    {
     "name": "stdout",
     "output_type": "stream",
     "text": [
      "Substring ends at:  NLTK\n"
     ]
    }
   ],
   "source": [
    "print(\"Substring ends at: \", str[:4])"
   ]
  },
  {
   "cell_type": "code",
   "execution_count": 8,
   "metadata": {},
   "outputs": [
    {
     "name": "stdout",
     "output_type": "stream",
     "text": [
      "Substring starts at:  Python\n"
     ]
    }
   ],
   "source": [
    "print(\"Substring starts at: \", str[11:])"
   ]
  },
  {
   "cell_type": "code",
   "execution_count": 9,
   "metadata": {},
   "outputs": [
    {
     "name": "stdout",
     "output_type": "stream",
     "text": [
      "Substring : Dolly\n"
     ]
    }
   ],
   "source": [
    "print(\"Substring :\", str[5:10])"
   ]
  },
  {
   "cell_type": "code",
   "execution_count": 10,
   "metadata": {},
   "outputs": [
    {
     "name": "stdout",
     "output_type": "stream",
     "text": [
      "Substring fancy: Dolly\n"
     ]
    }
   ],
   "source": [
    "print(\"Substring fancy:\", str[-12:-7])"
   ]
  },
  {
   "cell_type": "markdown",
   "metadata": {},
   "source": [
    "#### In operator"
   ]
  },
  {
   "cell_type": "code",
   "execution_count": 11,
   "metadata": {},
   "outputs": [
    {
     "name": "stdout",
     "output_type": "stream",
     "text": [
      "found NLTK!\n"
     ]
    }
   ],
   "source": [
    "# check left handside string whether it is in right handside or not\n",
    "if \"NLTK\" in str:\n",
    "    print(\"found NLTK!\")"
   ]
  },
  {
   "cell_type": "markdown",
   "metadata": {},
   "source": [
    "#### Replace function"
   ]
  },
  {
   "cell_type": "code",
   "execution_count": 12,
   "metadata": {},
   "outputs": [
    {
     "name": "stdout",
     "output_type": "stream",
     "text": [
      "Replaced string:  NLTK Maya Python\n"
     ]
    }
   ],
   "source": [
    "# return new string object. takes two argument \n",
    "replaced = str.replace(\"Dolly\",\"Maya\")\n",
    "print(\"Replaced string: \",replaced)"
   ]
  },
  {
   "cell_type": "markdown",
   "metadata": {},
   "source": [
    "#### Access Each Charecter"
   ]
  },
  {
   "cell_type": "code",
   "execution_count": 13,
   "metadata": {},
   "outputs": [
    {
     "name": "stdout",
     "output_type": "stream",
     "text": [
      "Accessing each character: \n",
      "N\n",
      "L\n",
      "T\n",
      "K\n",
      " \n",
      "M\n",
      "a\n",
      "y\n",
      "a\n",
      " \n",
      "P\n",
      "y\n",
      "t\n",
      "h\n",
      "o\n",
      "n\n"
     ]
    }
   ],
   "source": [
    "print(\"Accessing each character: \")\n",
    "for s in replaced:\n",
    "    print(s)"
   ]
  },
  {
   "cell_type": "markdown",
   "metadata": {},
   "source": [
    "### 02. Reading Files"
   ]
  },
  {
   "cell_type": "markdown",
   "metadata": {},
   "source": [
    "#### 02.01- Reading PDF"
   ]
  },
  {
   "cell_type": "code",
   "execution_count": 14,
   "metadata": {},
   "outputs": [],
   "source": [
    "# install pypdf2 module with \"pip install pypdf2\" if you don\"t have\n",
    "# create file name called pdf.py\n",
    "import pdf"
   ]
  },
  {
   "cell_type": "code",
   "execution_count": 15,
   "metadata": {},
   "outputs": [
    {
     "name": "stdout",
     "output_type": "stream",
     "text": [
      "PDF 1: \n",
      " This is a sample PDF document I am using to demonstrate in the tutorial.\n",
      " \n",
      "\n",
      "PDF 2: \n",
      " This is a sample PDF document\n",
      " \n",
      "password protected.\n",
      " \n",
      "\n"
     ]
    }
   ],
   "source": [
    "import pdf\n",
    "\n",
    "pdfFile = 'sample-one-line.pdf'\n",
    "pdfFileEncrypted = 'sample-one-line.protected.pdf'\n",
    "\n",
    "print('PDF 1: \\n',pdf.getTextPDF(pdfFile))\n",
    "print('PDF 2: \\n',pdf.getTextPDF(pdfFileEncrypted,\"tuffy\"))"
   ]
  },
  {
   "cell_type": "markdown",
   "metadata": {},
   "source": [
    "#### 02.02- Reading Word Document\n"
   ]
  },
  {
   "cell_type": "code",
   "execution_count": 17,
   "metadata": {},
   "outputs": [],
   "source": [
    "# install python-docx module with \"pip install python-docx\" if you don\"t have\n",
    "import docx\n",
    "import word\n"
   ]
  },
  {
   "cell_type": "code",
   "execution_count": 18,
   "metadata": {},
   "outputs": [
    {
     "name": "stdout",
     "output_type": "stream",
     "text": [
      "Document in full: \n",
      " This is a sample PDF document with some text in BOLD, some in ITALIC and some underlined. We are also embedding a Title down below.\n",
      "This is my TITLE.\n",
      "This is my third paragraph.\n"
     ]
    }
   ],
   "source": [
    "docName =\"sample-one-line.docx\"\n",
    "print(\"Document in full: \\n\", word.getTextWord(docName))"
   ]
  },
  {
   "cell_type": "code",
   "execution_count": 20,
   "metadata": {},
   "outputs": [
    {
     "name": "stdout",
     "output_type": "stream",
     "text": [
      "Number of paragraphs : 3\n",
      "Paragraph 2: This is my TITLE.\n",
      "Paragraph 2 style: _ParagraphStyle('Title') id: 4383615240\n",
      "Paragraph 1: This is a sample PDF document with some text in BOLD, some in ITALIC and some underlined. We are also embedding a Title down below.\n"
     ]
    }
   ],
   "source": [
    "doc = docx.Document(docName)\n",
    "print('Number of paragraphs :',len(doc.paragraphs))\n",
    "print('Paragraph 2:',doc.paragraphs[1].text)\n",
    "print('Paragraph 2 style:',doc.paragraphs[1].style)\n",
    "\n",
    "\n"
   ]
  },
  {
   "cell_type": "code",
   "execution_count": 23,
   "metadata": {},
   "outputs": [
    {
     "name": "stdout",
     "output_type": "stream",
     "text": [
      "Paragraph 1: This is a sample PDF document with some text in BOLD, some in ITALIC and some underlined. We are also embedding a Title down below.\n",
      "Number of runs in paragraph 1: 8\n",
      "Run 0 : This is a sample PDF document with \n",
      "Run 1 : some text in BOLD\n",
      "Run 2 : , \n",
      "Run 3 : some in ITALIC\n",
      "Run 4 :  and \n",
      "Run 5 : some underlined.\n",
      "Run 6 :  We are also embedding a Title down below\n",
      "Run 7 : .\n"
     ]
    }
   ],
   "source": [
    "print('Paragraph 1:',doc.paragraphs[0].text)\n",
    "print('Number of runs in paragraph 1:',len(doc.paragraphs[0].runs))\n",
    "for idx, run in enumerate(doc.paragraphs[0].runs):\n",
    "    print('Run %s : %s' %(idx,run.text))\n"
   ]
  },
  {
   "cell_type": "code",
   "execution_count": 22,
   "metadata": {},
   "outputs": [
    {
     "name": "stdout",
     "output_type": "stream",
     "text": [
      "is Run 0 underlined: True\n",
      "is Run 2 bold: True\n",
      "is Run 7 italic: True\n"
     ]
    }
   ],
   "source": [
    "print('is Run 0 underlined:',doc.paragraphs[0].runs[5].underline)\n",
    "print('is Run 2 bold:',doc.paragraphs[0].runs[1].bold)\n",
    "print('is Run 7 italic:',doc.paragraphs[0].runs[3].italic)"
   ]
  },
  {
   "cell_type": "code",
   "execution_count": null,
   "metadata": {},
   "outputs": [],
   "source": []
  }
 ],
 "metadata": {
  "kernelspec": {
   "display_name": "Python 3",
   "language": "python",
   "name": "python3"
  },
  "language_info": {
   "codemirror_mode": {
    "name": "ipython",
    "version": 3
   },
   "file_extension": ".py",
   "mimetype": "text/x-python",
   "name": "python",
   "nbconvert_exporter": "python",
   "pygments_lexer": "ipython3",
   "version": "3.6.4"
  }
 },
 "nbformat": 4,
 "nbformat_minor": 2
}
